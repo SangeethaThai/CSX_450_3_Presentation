{
 "cells": [
  {
   "cell_type": "code",
   "execution_count": 5,
   "metadata": {},
   "outputs": [
    {
     "name": "stdout",
     "output_type": "stream",
     "text": [
      "Collecting pymongo\n",
      "  Using cached pymongo-3.6.0-cp36-cp36m-manylinux1_x86_64.whl\n",
      "Installing collected packages: pymongo\n",
      "Successfully installed pymongo-3.6.0\n"
     ]
    }
   ],
   "source": [
    "!pip install pymongo"
   ]
  },
  {
   "cell_type": "code",
   "execution_count": 38,
   "metadata": {},
   "outputs": [],
   "source": [
    "from pandas import pandas as pd\n",
    "from pandas.io.json import json_normalize\n",
    "from pymongo import MongoClient"
   ]
  },
  {
   "cell_type": "code",
   "execution_count": 39,
   "metadata": {},
   "outputs": [],
   "source": [
    "%matplotlib inline"
   ]
  },
  {
   "cell_type": "code",
   "execution_count": 40,
   "metadata": {},
   "outputs": [],
   "source": [
    "mongo_client = MongoClient('this-mongo.cc', 27016)\n",
    "database_reference = mongo_client.twitter\n",
    "collection_reference = database_reference.tweets"
   ]
  },
  {
   "cell_type": "code",
   "execution_count": 41,
   "metadata": {},
   "outputs": [
    {
     "data": {
      "text/html": [
       "<div>\n",
       "<table border=\"1\" class=\"dataframe\">\n",
       "  <thead>\n",
       "    <tr style=\"text-align: right;\">\n",
       "      <th></th>\n",
       "      <th>_id</th>\n",
       "      <th>user.screen_name</th>\n",
       "      <th>user.friends_count</th>\n",
       "      <th>user.followers_count</th>\n",
       "    </tr>\n",
       "  </thead>\n",
       "  <tbody>\n",
       "    <tr>\n",
       "      <th>0</th>\n",
       "      <td>5a5463f547b2a100b50895fd</td>\n",
       "      <td>josearreguin72</td>\n",
       "      <td>102</td>\n",
       "      <td>14</td>\n",
       "    </tr>\n",
       "    <tr>\n",
       "      <th>1</th>\n",
       "      <td>5a570c8536dd5f00015bb1f0</td>\n",
       "      <td>unclenappy</td>\n",
       "      <td>1039</td>\n",
       "      <td>3721</td>\n",
       "    </tr>\n",
       "    <tr>\n",
       "      <th>2</th>\n",
       "      <td>5a70f87a36dd5f00016afc26</td>\n",
       "      <td>webogre</td>\n",
       "      <td>1218</td>\n",
       "      <td>427</td>\n",
       "    </tr>\n",
       "    <tr>\n",
       "      <th>3</th>\n",
       "      <td>5a5795e636dd5f00015bdd90</td>\n",
       "      <td>nancystaack</td>\n",
       "      <td>592</td>\n",
       "      <td>957</td>\n",
       "    </tr>\n",
       "    <tr>\n",
       "      <th>4</th>\n",
       "      <td>5a53044447b2a100b507af10</td>\n",
       "      <td>bobridgess</td>\n",
       "      <td>226</td>\n",
       "      <td>339</td>\n",
       "    </tr>\n",
       "  </tbody>\n",
       "</table>\n",
       "</div>"
      ],
      "text/plain": [
       "                        _id user.screen_name  user.friends_count  \\\n",
       "0  5a5463f547b2a100b50895fd   josearreguin72                 102   \n",
       "1  5a570c8536dd5f00015bb1f0       unclenappy                1039   \n",
       "2  5a70f87a36dd5f00016afc26          webogre                1218   \n",
       "3  5a5795e636dd5f00015bdd90      nancystaack                 592   \n",
       "4  5a53044447b2a100b507af10       bobridgess                 226   \n",
       "\n",
       "   user.followers_count  \n",
       "0                    14  \n",
       "1                  3721  \n",
       "2                   427  \n",
       "3                   957  \n",
       "4                   339  "
      ]
     },
     "execution_count": 41,
     "metadata": {},
     "output_type": "execute_result"
    }
   ],
   "source": [
    "cols = ['_id', 'user.screen_name', 'user.friends_count', 'user.followers_count']\n",
    "#df_users = pd.DataFrame(cols)\n",
    "for i in range(0, 200):\n",
    "    sample_set = collection_reference.aggregate([{'$sample': {'size': 100}}])\n",
    "    df = json_normalize(list(sample_set))    \n",
    "    df = df[cols]\n",
    "    if i == 0:\n",
    "        df_users = df\n",
    "    else:\n",
    "        df_users = df_users.append(df, ignore_index=True)\n",
    "#df = df.rename(index=str, columns={\"_id\": \"_id\", \"user.screen_name\": \"user_screen_name\"})\n",
    "\n",
    "df_users.head(5)"
   ]
  },
  {
   "cell_type": "code",
   "execution_count": 42,
   "metadata": {},
   "outputs": [
    {
     "data": {
      "text/plain": [
       "(20000, 4)"
      ]
     },
     "execution_count": 42,
     "metadata": {},
     "output_type": "execute_result"
    }
   ],
   "source": [
    "df_users.shape"
   ]
  },
  {
   "cell_type": "code",
   "execution_count": 43,
   "metadata": {},
   "outputs": [],
   "source": [
    "df_friends_followers = df_users #df_users[['_id', 'user.friends_count', 'user.followers_count']]\n",
    "df_users = df_users[['_id', 'user.screen_name']]\n",
    "\n",
    "group_by_user = df_users.groupby(['user.screen_name'])\n",
    "group_by_data = group_by_user.count()\n"
   ]
  },
  {
   "cell_type": "code",
   "execution_count": 44,
   "metadata": {},
   "outputs": [
    {
     "data": {
      "text/html": [
       "<div>\n",
       "<table border=\"1\" class=\"dataframe\">\n",
       "  <thead>\n",
       "    <tr style=\"text-align: right;\">\n",
       "      <th></th>\n",
       "      <th>_id</th>\n",
       "    </tr>\n",
       "    <tr>\n",
       "      <th>user.screen_name</th>\n",
       "      <th></th>\n",
       "    </tr>\n",
       "  </thead>\n",
       "  <tbody>\n",
       "    <tr>\n",
       "      <th>0000028IRAY</th>\n",
       "      <td>1</td>\n",
       "    </tr>\n",
       "    <tr>\n",
       "      <th>007Bohn</th>\n",
       "      <td>1</td>\n",
       "    </tr>\n",
       "    <tr>\n",
       "      <th>0216cabral2000</th>\n",
       "      <td>3</td>\n",
       "    </tr>\n",
       "    <tr>\n",
       "      <th>0ceantal</th>\n",
       "      <td>1</td>\n",
       "    </tr>\n",
       "    <tr>\n",
       "      <th>0dd0dee</th>\n",
       "      <td>1</td>\n",
       "    </tr>\n",
       "  </tbody>\n",
       "</table>\n",
       "</div>"
      ],
      "text/plain": [
       "                  _id\n",
       "user.screen_name     \n",
       "0000028IRAY         1\n",
       "007Bohn             1\n",
       "0216cabral2000      3\n",
       "0ceantal            1\n",
       "0dd0dee             1"
      ]
     },
     "execution_count": 44,
     "metadata": {},
     "output_type": "execute_result"
    }
   ],
   "source": [
    "group_by_data.head(5)"
   ]
  },
  {
   "cell_type": "code",
   "execution_count": 45,
   "metadata": {},
   "outputs": [
    {
     "data": {
      "text/plain": [
       "(10, 1)"
      ]
     },
     "execution_count": 45,
     "metadata": {},
     "output_type": "execute_result"
    }
   ],
   "source": [
    "most_freq_tweeters = group_by_data.sort_values(by='_id', ascending=False) #s.nlargest(5, '_id')\n",
    "most_freq_tweeters = most_freq_tweeters.head(10)\n",
    "most_freq_tweeters.shape"
   ]
  },
  {
   "cell_type": "code",
   "execution_count": 46,
   "metadata": {},
   "outputs": [
    {
     "data": {
      "text/html": [
       "<div>\n",
       "<table border=\"1\" class=\"dataframe\">\n",
       "  <thead>\n",
       "    <tr style=\"text-align: right;\">\n",
       "      <th></th>\n",
       "      <th>_id</th>\n",
       "    </tr>\n",
       "    <tr>\n",
       "      <th>user.screen_name</th>\n",
       "      <th></th>\n",
       "    </tr>\n",
       "  </thead>\n",
       "  <tbody>\n",
       "    <tr>\n",
       "      <th>test5geo1798</th>\n",
       "      <td>160</td>\n",
       "    </tr>\n",
       "    <tr>\n",
       "      <th>Tj_way</th>\n",
       "      <td>67</td>\n",
       "    </tr>\n",
       "    <tr>\n",
       "      <th>newnewspage</th>\n",
       "      <td>36</td>\n",
       "    </tr>\n",
       "    <tr>\n",
       "      <th>blk_tray</th>\n",
       "      <td>33</td>\n",
       "    </tr>\n",
       "    <tr>\n",
       "      <th>everylotla</th>\n",
       "      <td>33</td>\n",
       "    </tr>\n",
       "    <tr>\n",
       "      <th>ChangeTheLAUSD</th>\n",
       "      <td>32</td>\n",
       "    </tr>\n",
       "    <tr>\n",
       "      <th>JanGilson</th>\n",
       "      <td>31</td>\n",
       "    </tr>\n",
       "    <tr>\n",
       "      <th>SCHJobs</th>\n",
       "      <td>25</td>\n",
       "    </tr>\n",
       "    <tr>\n",
       "      <th>TrueLifeOfTimmy</th>\n",
       "      <td>24</td>\n",
       "    </tr>\n",
       "    <tr>\n",
       "      <th>24SevenSM</th>\n",
       "      <td>24</td>\n",
       "    </tr>\n",
       "  </tbody>\n",
       "</table>\n",
       "</div>"
      ],
      "text/plain": [
       "                  _id\n",
       "user.screen_name     \n",
       "test5geo1798      160\n",
       "Tj_way             67\n",
       "newnewspage        36\n",
       "blk_tray           33\n",
       "everylotla         33\n",
       "ChangeTheLAUSD     32\n",
       "JanGilson          31\n",
       "SCHJobs            25\n",
       "TrueLifeOfTimmy    24\n",
       "24SevenSM          24"
      ]
     },
     "execution_count": 46,
     "metadata": {},
     "output_type": "execute_result"
    }
   ],
   "source": [
    "most_freq_tweeters"
   ]
  },
  {
   "cell_type": "code",
   "execution_count": 47,
   "metadata": {},
   "outputs": [
    {
     "data": {
      "text/plain": [
       "<matplotlib.axes._subplots.AxesSubplot at 0x7f3e713a4e80>"
      ]
     },
     "execution_count": 47,
     "metadata": {},
     "output_type": "execute_result"
    },
    {
     "data": {
      "image/png": "[encoded data removed]",
      "text/plain": [
       "<matplotlib.figure.Figure at 0x7f3e71126d68>"
      ]
     },
     "metadata": {},
     "output_type": "display_data"
    }
   ],
   "source": [
    "most_freq_tweeters.plot(kind='barh', colormap='winter', legend=False, title=\"Most Frequent Tweeters\")"
   ]
  },
  {
   "cell_type": "code",
   "execution_count": 48,
   "metadata": {},
   "outputs": [
    {
     "data": {
      "text/plain": [
       "user.screen_name\n",
       "test5geo1798       160\n",
       "Tj_way              67\n",
       "newnewspage         36\n",
       "blk_tray            33\n",
       "everylotla          33\n",
       "ChangeTheLAUSD      32\n",
       "JanGilson           31\n",
       "SCHJobs             25\n",
       "TrueLifeOfTimmy     24\n",
       "24SevenSM           24\n",
       "Name: _id, dtype: int64"
      ]
     },
     "execution_count": 48,
     "metadata": {},
     "output_type": "execute_result"
    }
   ],
   "source": [
    "most_freq_tweeters['_id']"
   ]
  },
  {
   "cell_type": "code",
   "execution_count": 49,
   "metadata": {},
   "outputs": [
    {
     "data": {
      "text/plain": [
       "['test5geo1798',\n",
       " 'Tj_way',\n",
       " 'newnewspage',\n",
       " 'blk_tray',\n",
       " 'everylotla',\n",
       " 'ChangeTheLAUSD',\n",
       " 'JanGilson',\n",
       " 'SCHJobs',\n",
       " 'TrueLifeOfTimmy',\n",
       " '24SevenSM']"
      ]
     },
     "execution_count": 49,
     "metadata": {},
     "output_type": "execute_result"
    }
   ],
   "source": [
    "list(most_freq_tweeters.index)"
   ]
  },
  {
   "cell_type": "code",
   "execution_count": 53,
   "metadata": {},
   "outputs": [],
   "source": [
    "df_friends_followers = df_friends_followers[df_friends_followers['user.screen_name'].isin(list(most_freq_tweeters.index))]"
   ]
  },
  {
   "cell_type": "code",
   "execution_count": 54,
   "metadata": {},
   "outputs": [
    {
     "data": {
      "text/html": [
       "<div>\n",
       "<table border=\"1\" class=\"dataframe\">\n",
       "  <thead>\n",
       "    <tr style=\"text-align: right;\">\n",
       "      <th></th>\n",
       "      <th>user.friends_count</th>\n",
       "      <th>user.followers_count</th>\n",
       "    </tr>\n",
       "    <tr>\n",
       "      <th>user.screen_name</th>\n",
       "      <th></th>\n",
       "      <th></th>\n",
       "    </tr>\n",
       "  </thead>\n",
       "  <tbody>\n",
       "    <tr>\n",
       "      <th>24SevenSM</th>\n",
       "      <td>102</td>\n",
       "      <td>415</td>\n",
       "    </tr>\n",
       "    <tr>\n",
       "      <th>ChangeTheLAUSD</th>\n",
       "      <td>7023</td>\n",
       "      <td>6979</td>\n",
       "    </tr>\n",
       "    <tr>\n",
       "      <th>JanGilson</th>\n",
       "      <td>1554</td>\n",
       "      <td>1868</td>\n",
       "    </tr>\n",
       "    <tr>\n",
       "      <th>SCHJobs</th>\n",
       "      <td>0</td>\n",
       "      <td>47</td>\n",
       "    </tr>\n",
       "    <tr>\n",
       "      <th>Tj_way</th>\n",
       "      <td>24865</td>\n",
       "      <td>25941</td>\n",
       "    </tr>\n",
       "    <tr>\n",
       "      <th>TrueLifeOfTimmy</th>\n",
       "      <td>487</td>\n",
       "      <td>2322</td>\n",
       "    </tr>\n",
       "    <tr>\n",
       "      <th>blk_tray</th>\n",
       "      <td>718</td>\n",
       "      <td>11689</td>\n",
       "    </tr>\n",
       "    <tr>\n",
       "      <th>everylotla</th>\n",
       "      <td>4</td>\n",
       "      <td>454</td>\n",
       "    </tr>\n",
       "    <tr>\n",
       "      <th>newnewspage</th>\n",
       "      <td>6161</td>\n",
       "      <td>61959</td>\n",
       "    </tr>\n",
       "    <tr>\n",
       "      <th>test5geo1798</th>\n",
       "      <td>0</td>\n",
       "      <td>28</td>\n",
       "    </tr>\n",
       "  </tbody>\n",
       "</table>\n",
       "</div>"
      ],
      "text/plain": [
       "                  user.friends_count  user.followers_count\n",
       "user.screen_name                                          \n",
       "24SevenSM                        102                   415\n",
       "ChangeTheLAUSD                  7023                  6979\n",
       "JanGilson                       1554                  1868\n",
       "SCHJobs                            0                    47\n",
       "Tj_way                         24865                 25941\n",
       "TrueLifeOfTimmy                  487                  2322\n",
       "blk_tray                         718                 11689\n",
       "everylotla                         4                   454\n",
       "newnewspage                     6161                 61959\n",
       "test5geo1798                       0                    28"
      ]
     },
     "execution_count": 54,
     "metadata": {},
     "output_type": "execute_result"
    }
   ],
   "source": [
    "df_friends_group_by = df_friends_followers.groupby(['user.screen_name'])[['user.friends_count', 'user.followers_count']]\n",
    "df_friends_data = df_friends_group_by.last()\n",
    "df_friends_data"
   ]
  },
  {
   "cell_type": "code",
   "execution_count": 55,
   "metadata": {},
   "outputs": [
    {
     "data": {
      "text/html": [
       "<div>\n",
       "<table border=\"1\" class=\"dataframe\">\n",
       "  <thead>\n",
       "    <tr style=\"text-align: right;\">\n",
       "      <th></th>\n",
       "      <th>_id</th>\n",
       "    </tr>\n",
       "    <tr>\n",
       "      <th>user.screen_name</th>\n",
       "      <th></th>\n",
       "    </tr>\n",
       "  </thead>\n",
       "  <tbody>\n",
       "    <tr>\n",
       "      <th>test5geo1798</th>\n",
       "      <td>160</td>\n",
       "    </tr>\n",
       "    <tr>\n",
       "      <th>Tj_way</th>\n",
       "      <td>67</td>\n",
       "    </tr>\n",
       "    <tr>\n",
       "      <th>newnewspage</th>\n",
       "      <td>36</td>\n",
       "    </tr>\n",
       "    <tr>\n",
       "      <th>blk_tray</th>\n",
       "      <td>33</td>\n",
       "    </tr>\n",
       "    <tr>\n",
       "      <th>everylotla</th>\n",
       "      <td>33</td>\n",
       "    </tr>\n",
       "    <tr>\n",
       "      <th>ChangeTheLAUSD</th>\n",
       "      <td>32</td>\n",
       "    </tr>\n",
       "    <tr>\n",
       "      <th>JanGilson</th>\n",
       "      <td>31</td>\n",
       "    </tr>\n",
       "    <tr>\n",
       "      <th>SCHJobs</th>\n",
       "      <td>25</td>\n",
       "    </tr>\n",
       "    <tr>\n",
       "      <th>TrueLifeOfTimmy</th>\n",
       "      <td>24</td>\n",
       "    </tr>\n",
       "    <tr>\n",
       "      <th>24SevenSM</th>\n",
       "      <td>24</td>\n",
       "    </tr>\n",
       "  </tbody>\n",
       "</table>\n",
       "</div>"
      ],
      "text/plain": [
       "                  _id\n",
       "user.screen_name     \n",
       "test5geo1798      160\n",
       "Tj_way             67\n",
       "newnewspage        36\n",
       "blk_tray           33\n",
       "everylotla         33\n",
       "ChangeTheLAUSD     32\n",
       "JanGilson          31\n",
       "SCHJobs            25\n",
       "TrueLifeOfTimmy    24\n",
       "24SevenSM          24"
      ]
     },
     "execution_count": 55,
     "metadata": {},
     "output_type": "execute_result"
    }
   ],
   "source": [
    "most_freq_tweeters"
   ]
  },
  {
   "cell_type": "code",
   "execution_count": 62,
   "metadata": {},
   "outputs": [
    {
     "data": {
      "text/html": [
       "<div>\n",
       "<table border=\"1\" class=\"dataframe\">\n",
       "  <thead>\n",
       "    <tr style=\"text-align: right;\">\n",
       "      <th></th>\n",
       "      <th>_id</th>\n",
       "      <th>user.friends_count</th>\n",
       "      <th>user.followers_count</th>\n",
       "    </tr>\n",
       "    <tr>\n",
       "      <th>user.screen_name</th>\n",
       "      <th></th>\n",
       "      <th></th>\n",
       "      <th></th>\n",
       "    </tr>\n",
       "  </thead>\n",
       "  <tbody>\n",
       "    <tr>\n",
       "      <th>test5geo1798</th>\n",
       "      <td>160</td>\n",
       "      <td>0</td>\n",
       "      <td>28</td>\n",
       "    </tr>\n",
       "    <tr>\n",
       "      <th>Tj_way</th>\n",
       "      <td>67</td>\n",
       "      <td>24865</td>\n",
       "      <td>25941</td>\n",
       "    </tr>\n",
       "    <tr>\n",
       "      <th>newnewspage</th>\n",
       "      <td>36</td>\n",
       "      <td>6161</td>\n",
       "      <td>61959</td>\n",
       "    </tr>\n",
       "    <tr>\n",
       "      <th>blk_tray</th>\n",
       "      <td>33</td>\n",
       "      <td>718</td>\n",
       "      <td>11689</td>\n",
       "    </tr>\n",
       "    <tr>\n",
       "      <th>everylotla</th>\n",
       "      <td>33</td>\n",
       "      <td>4</td>\n",
       "      <td>454</td>\n",
       "    </tr>\n",
       "    <tr>\n",
       "      <th>ChangeTheLAUSD</th>\n",
       "      <td>32</td>\n",
       "      <td>7023</td>\n",
       "      <td>6979</td>\n",
       "    </tr>\n",
       "    <tr>\n",
       "      <th>JanGilson</th>\n",
       "      <td>31</td>\n",
       "      <td>1554</td>\n",
       "      <td>1868</td>\n",
       "    </tr>\n",
       "    <tr>\n",
       "      <th>SCHJobs</th>\n",
       "      <td>25</td>\n",
       "      <td>0</td>\n",
       "      <td>47</td>\n",
       "    </tr>\n",
       "    <tr>\n",
       "      <th>TrueLifeOfTimmy</th>\n",
       "      <td>24</td>\n",
       "      <td>487</td>\n",
       "      <td>2322</td>\n",
       "    </tr>\n",
       "    <tr>\n",
       "      <th>24SevenSM</th>\n",
       "      <td>24</td>\n",
       "      <td>102</td>\n",
       "      <td>415</td>\n",
       "    </tr>\n",
       "  </tbody>\n",
       "</table>\n",
       "</div>"
      ],
      "text/plain": [
       "                  _id  user.friends_count  user.followers_count\n",
       "user.screen_name                                               \n",
       "test5geo1798      160                   0                    28\n",
       "Tj_way             67               24865                 25941\n",
       "newnewspage        36                6161                 61959\n",
       "blk_tray           33                 718                 11689\n",
       "everylotla         33                   4                   454\n",
       "ChangeTheLAUSD     32                7023                  6979\n",
       "JanGilson          31                1554                  1868\n",
       "SCHJobs            25                   0                    47\n",
       "TrueLifeOfTimmy    24                 487                  2322\n",
       "24SevenSM          24                 102                   415"
      ]
     },
     "execution_count": 62,
     "metadata": {},
     "output_type": "execute_result"
    }
   ],
   "source": [
    "user_stats = most_freq_tweeters.merge(df_friends_data, left_index=True, right_index=True, how='left')\n",
    "user_stats"
   ]
  },
  {
   "cell_type": "code",
   "execution_count": 83,
   "metadata": {},
   "outputs": [],
   "source": [
    "user_stats = most_freq_tweeters.merge(df_friends_data, left_index=True, right_index=True, how='left')\n",
    "user_stats_sc = (user_stats - user_stats.mean())/user_stats.std()"
   ]
  },
  {
   "cell_type": "code",
   "execution_count": 74,
   "metadata": {},
   "outputs": [],
   "source": [
    "import matplotlib.pyplot as plt"
   ]
  },
  {
   "cell_type": "code",
   "execution_count": 85,
   "metadata": {},
   "outputs": [
    {
     "data": {
      "text/plain": [
       "<matplotlib.legend.Legend at 0x7f3e5cad1908>"
      ]
     },
     "execution_count": 85,
     "metadata": {},
     "output_type": "execute_result"
    },
    {
     "data": {
      "image/png": "[encoded data removed]",
      "text/plain": [
       "<matplotlib.figure.Figure at 0x7f3e5c732a20>"
      ]
     },
     "metadata": {},
     "output_type": "display_data"
    }
   ],
   "source": [
    "plt.plot(user_stats_sc._id.values, label='tweets count')\n",
    "plt.plot(user_stats_sc['user.friends_count'].values, label='friends count')\n",
    "plt.plot(user_stats_sc['user.followers_count'].values, label='followers count')\n",
    "plt.legend()"
   ]
  },
  {
   "cell_type": "code",
   "execution_count": null,
   "metadata": {},
   "outputs": [],
   "source": []
  }
 ],
 "metadata": {
  "kernelspec": {
   "display_name": "Python 3",
   "language": "python",
   "name": "python3"
  },
  "language_info": {
   "codemirror_mode": {
    "name": "ipython",
    "version": 3
   },
   "file_extension": ".py",
   "mimetype": "text/x-python",
   "name": "python",
   "nbconvert_exporter": "python",
   "pygments_lexer": "ipython3",
   "version": "3.6.3"
  }
 },
 "nbformat": 4,
 "nbformat_minor": 2
}

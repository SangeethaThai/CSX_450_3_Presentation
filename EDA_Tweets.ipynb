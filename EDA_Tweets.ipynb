{
 "cells": [
  {
   "cell_type": "code",
   "execution_count": 157,
   "metadata": {},
   "outputs": [
    {
     "name": "stdout",
     "output_type": "stream",
     "text": [
      "Requirement already satisfied: pymongo in /opt/conda/lib/python3.6/site-packages\n",
      "Requirement already satisfied: pandas in /opt/conda/lib/python3.6/site-packages\n",
      "Requirement already satisfied: python-dateutil>=2 in /opt/conda/lib/python3.6/site-packages (from pandas)\n",
      "Requirement already satisfied: pytz>=2011k in /opt/conda/lib/python3.6/site-packages (from pandas)\n",
      "Requirement already satisfied: numpy>=1.7.0 in /opt/conda/lib/python3.6/site-packages (from pandas)\n",
      "Requirement already satisfied: six>=1.5 in /opt/conda/lib/python3.6/site-packages (from python-dateutil>=2->pandas)\n"
     ]
    }
   ],
   "source": [
    "# install required modules\n",
    "!pip install pymongo\n",
    "!pip install pandas"
   ]
  },
  {
   "cell_type": "code",
   "execution_count": 158,
   "metadata": {},
   "outputs": [],
   "source": [
    "# access modules\n",
    "from pandas import pandas as pd\n",
    "from pymongo import MongoClient"
   ]
  },
  {
   "cell_type": "code",
   "execution_count": 159,
   "metadata": {},
   "outputs": [],
   "source": [
    "mongo_client = MongoClient('34.209.155.42', 27016)\n",
    "database_reference = mongo_client.twitter\n",
    "collection_reference = database_reference.tweets"
   ]
  },
  {
   "cell_type": "code",
   "execution_count": 160,
   "metadata": {},
   "outputs": [
    {
     "data": {
      "text/plain": [
       "2124309"
      ]
     },
     "execution_count": 160,
     "metadata": {},
     "output_type": "execute_result"
    }
   ],
   "source": [
    "collection_reference.count()"
   ]
  },
  {
   "cell_type": "code",
   "execution_count": 161,
   "metadata": {},
   "outputs": [],
   "source": [
    "# Get the first document\n",
    "cursor = collection_reference.find()"
   ]
  },
  {
   "cell_type": "code",
   "execution_count": 162,
   "metadata": {},
   "outputs": [
    {
     "data": {
      "text/plain": [
       "_id                           object\n",
       "contributors                  object\n",
       "coordinates                   object\n",
       "created_at                    object\n",
       "display_text_range            object\n",
       "entities                      object\n",
       "extended_tweet                object\n",
       "favorite_count                 int64\n",
       "favorited                       bool\n",
       "filter_level                  object\n",
       "geo                           object\n",
       "id                             int64\n",
       "id_str                        object\n",
       "in_reply_to_screen_name       object\n",
       "in_reply_to_status_id        float64\n",
       "in_reply_to_status_id_str     object\n",
       "in_reply_to_user_id          float64\n",
       "in_reply_to_user_id_str       object\n",
       "is_quote_status                 bool\n",
       "lang                          object\n",
       "place                         object\n",
       "possibly_sensitive            object\n",
       "quote_count                    int64\n",
       "quoted_status                 object\n",
       "quoted_status_id             float64\n",
       "quoted_status_id_str          object\n",
       "reply_count                    int64\n",
       "retweet_count                  int64\n",
       "retweeted                       bool\n",
       "source                        object\n",
       "text                          object\n",
       "timestamp_ms                  object\n",
       "truncated                       bool\n",
       "user                          object\n",
       "user_processed                object\n",
       "dtype: object"
      ]
     },
     "execution_count": 162,
     "metadata": {},
     "output_type": "execute_result"
    }
   ],
   "source": [
    "sample_set = collection_reference.aggregate([{'$sample': {'size': 10}}])\n",
    "df = pd.DataFrame(list(sample_set))\n",
    "df.dtypes"
   ]
  },
  {
   "cell_type": "code",
   "execution_count": 163,
   "metadata": {},
   "outputs": [
    {
     "data": {
      "text/html": [
       "<div>\n",
       "<table border=\"1\" class=\"dataframe\">\n",
       "  <thead>\n",
       "    <tr style=\"text-align: right;\">\n",
       "      <th></th>\n",
       "      <th>_id</th>\n",
       "      <th>contributors</th>\n",
       "      <th>coordinates</th>\n",
       "      <th>created_at</th>\n",
       "      <th>display_text_range</th>\n",
       "      <th>entities</th>\n",
       "      <th>extended_tweet</th>\n",
       "      <th>favorite_count</th>\n",
       "      <th>favorited</th>\n",
       "      <th>filter_level</th>\n",
       "      <th>...</th>\n",
       "      <th>quoted_status_id_str</th>\n",
       "      <th>reply_count</th>\n",
       "      <th>retweet_count</th>\n",
       "      <th>retweeted</th>\n",
       "      <th>source</th>\n",
       "      <th>text</th>\n",
       "      <th>timestamp_ms</th>\n",
       "      <th>truncated</th>\n",
       "      <th>user</th>\n",
       "      <th>user_processed</th>\n",
       "    </tr>\n",
       "  </thead>\n",
       "  <tbody>\n",
       "    <tr>\n",
       "      <th>0</th>\n",
       "      <td>5a74edb215ba4c0001541974</td>\n",
       "      <td>None</td>\n",
       "      <td>None</td>\n",
       "      <td>Fri Feb 02 23:01:06 +0000 2018</td>\n",
       "      <td>NaN</td>\n",
       "      <td>{'hashtags': [], 'urls': [], 'user_mentions': ...</td>\n",
       "      <td>NaN</td>\n",
       "      <td>0</td>\n",
       "      <td>False</td>\n",
       "      <td>low</td>\n",
       "      <td>...</td>\n",
       "      <td>NaN</td>\n",
       "      <td>0</td>\n",
       "      <td>0</td>\n",
       "      <td>False</td>\n",
       "      <td>&lt;a href=\"http://twitter.com/download/iphone\" r...</td>\n",
       "      <td>God, I hope Stan Lee’s cameo in Black Panther ...</td>\n",
       "      <td>1517612466386</td>\n",
       "      <td>False</td>\n",
       "      <td>{'id': 426964605, 'id_str': '426964605', 'name...</td>\n",
       "      <td>NaN</td>\n",
       "    </tr>\n",
       "    <tr>\n",
       "      <th>1</th>\n",
       "      <td>5a74bb7036dd5f00016d507f</td>\n",
       "      <td>None</td>\n",
       "      <td>None</td>\n",
       "      <td>Fri Feb 02 19:26:40 +0000 2018</td>\n",
       "      <td>[11, 22]</td>\n",
       "      <td>{'hashtags': [], 'urls': [], 'user_mentions': ...</td>\n",
       "      <td>NaN</td>\n",
       "      <td>0</td>\n",
       "      <td>False</td>\n",
       "      <td>low</td>\n",
       "      <td>...</td>\n",
       "      <td>NaN</td>\n",
       "      <td>0</td>\n",
       "      <td>0</td>\n",
       "      <td>False</td>\n",
       "      <td>&lt;a href=\"http://twitter.com/#!/download/ipad\" ...</td>\n",
       "      <td>@joanna__r Habit 🤷🏻‍♂️</td>\n",
       "      <td>1517599600331</td>\n",
       "      <td>False</td>\n",
       "      <td>{'id': 62141145, 'id_str': '62141145', 'name':...</td>\n",
       "      <td>NaN</td>\n",
       "    </tr>\n",
       "    <tr>\n",
       "      <th>2</th>\n",
       "      <td>5a74ee4615ba4c00015419ee</td>\n",
       "      <td>None</td>\n",
       "      <td>None</td>\n",
       "      <td>Fri Feb 02 23:03:34 +0000 2018</td>\n",
       "      <td>[15, 51]</td>\n",
       "      <td>{'hashtags': [], 'urls': [], 'user_mentions': ...</td>\n",
       "      <td>NaN</td>\n",
       "      <td>0</td>\n",
       "      <td>False</td>\n",
       "      <td>low</td>\n",
       "      <td>...</td>\n",
       "      <td>NaN</td>\n",
       "      <td>0</td>\n",
       "      <td>0</td>\n",
       "      <td>False</td>\n",
       "      <td>&lt;a href=\"http://twitter.com/download/iphone\" r...</td>\n",
       "      <td>@annagesselleg My interactions with 90% of boy...</td>\n",
       "      <td>1517612614614</td>\n",
       "      <td>False</td>\n",
       "      <td>{'id': 1024548752, 'id_str': '1024548752', 'na...</td>\n",
       "      <td>NaN</td>\n",
       "    </tr>\n",
       "    <tr>\n",
       "      <th>3</th>\n",
       "      <td>5a66e02636dd5f000165219c</td>\n",
       "      <td>None</td>\n",
       "      <td>None</td>\n",
       "      <td>Tue Jan 23 07:11:33 +0000 2018</td>\n",
       "      <td>[0, 44]</td>\n",
       "      <td>{'hashtags': [], 'urls': [{'url': 'https://t.c...</td>\n",
       "      <td>NaN</td>\n",
       "      <td>0</td>\n",
       "      <td>False</td>\n",
       "      <td>low</td>\n",
       "      <td>...</td>\n",
       "      <td>955697147432882177</td>\n",
       "      <td>0</td>\n",
       "      <td>0</td>\n",
       "      <td>False</td>\n",
       "      <td>&lt;a href=\"http://twitter.com/download/iphone\" r...</td>\n",
       "      <td>She has to be announcing this tour tomorrow. h...</td>\n",
       "      <td>1516691493906</td>\n",
       "      <td>False</td>\n",
       "      <td>{'id': 342953499, 'id_str': '342953499', 'name...</td>\n",
       "      <td>NaN</td>\n",
       "    </tr>\n",
       "    <tr>\n",
       "      <th>4</th>\n",
       "      <td>5a51624336dd5f0001581cea</td>\n",
       "      <td>None</td>\n",
       "      <td>{'type': 'Point', 'coordinates': [-118.243, 34...</td>\n",
       "      <td>Sat Jan 06 23:56:50 +0000 2018</td>\n",
       "      <td>NaN</td>\n",
       "      <td>{'hashtags': [], 'urls': [{'url': 'https://t.c...</td>\n",
       "      <td>NaN</td>\n",
       "      <td>0</td>\n",
       "      <td>False</td>\n",
       "      <td>low</td>\n",
       "      <td>...</td>\n",
       "      <td>NaN</td>\n",
       "      <td>0</td>\n",
       "      <td>0</td>\n",
       "      <td>False</td>\n",
       "      <td>&lt;a href=\"http://instagram.com\" rel=\"nofollow\"&gt;...</td>\n",
       "      <td>'you look so fine\\nI'm like the desert tonight...</td>\n",
       "      <td>1515283010785</td>\n",
       "      <td>False</td>\n",
       "      <td>{'id': 26154884, 'id_str': '26154884', 'name':...</td>\n",
       "      <td>NaN</td>\n",
       "    </tr>\n",
       "  </tbody>\n",
       "</table>\n",
       "<p>5 rows × 35 columns</p>\n",
       "</div>"
      ],
      "text/plain": [
       "                        _id contributors  \\\n",
       "0  5a74edb215ba4c0001541974         None   \n",
       "1  5a74bb7036dd5f00016d507f         None   \n",
       "2  5a74ee4615ba4c00015419ee         None   \n",
       "3  5a66e02636dd5f000165219c         None   \n",
       "4  5a51624336dd5f0001581cea         None   \n",
       "\n",
       "                                         coordinates  \\\n",
       "0                                               None   \n",
       "1                                               None   \n",
       "2                                               None   \n",
       "3                                               None   \n",
       "4  {'type': 'Point', 'coordinates': [-118.243, 34...   \n",
       "\n",
       "                       created_at display_text_range  \\\n",
       "0  Fri Feb 02 23:01:06 +0000 2018                NaN   \n",
       "1  Fri Feb 02 19:26:40 +0000 2018           [11, 22]   \n",
       "2  Fri Feb 02 23:03:34 +0000 2018           [15, 51]   \n",
       "3  Tue Jan 23 07:11:33 +0000 2018            [0, 44]   \n",
       "4  Sat Jan 06 23:56:50 +0000 2018                NaN   \n",
       "\n",
       "                                            entities extended_tweet  \\\n",
       "0  {'hashtags': [], 'urls': [], 'user_mentions': ...            NaN   \n",
       "1  {'hashtags': [], 'urls': [], 'user_mentions': ...            NaN   \n",
       "2  {'hashtags': [], 'urls': [], 'user_mentions': ...            NaN   \n",
       "3  {'hashtags': [], 'urls': [{'url': 'https://t.c...            NaN   \n",
       "4  {'hashtags': [], 'urls': [{'url': 'https://t.c...            NaN   \n",
       "\n",
       "   favorite_count favorited filter_level      ...       quoted_status_id_str  \\\n",
       "0               0     False          low      ...                        NaN   \n",
       "1               0     False          low      ...                        NaN   \n",
       "2               0     False          low      ...                        NaN   \n",
       "3               0     False          low      ...         955697147432882177   \n",
       "4               0     False          low      ...                        NaN   \n",
       "\n",
       "   reply_count retweet_count retweeted  \\\n",
       "0            0             0     False   \n",
       "1            0             0     False   \n",
       "2            0             0     False   \n",
       "3            0             0     False   \n",
       "4            0             0     False   \n",
       "\n",
       "                                              source  \\\n",
       "0  <a href=\"http://twitter.com/download/iphone\" r...   \n",
       "1  <a href=\"http://twitter.com/#!/download/ipad\" ...   \n",
       "2  <a href=\"http://twitter.com/download/iphone\" r...   \n",
       "3  <a href=\"http://twitter.com/download/iphone\" r...   \n",
       "4  <a href=\"http://instagram.com\" rel=\"nofollow\">...   \n",
       "\n",
       "                                                text   timestamp_ms truncated  \\\n",
       "0  God, I hope Stan Lee’s cameo in Black Panther ...  1517612466386     False   \n",
       "1                             @joanna__r Habit 🤷🏻‍♂️  1517599600331     False   \n",
       "2  @annagesselleg My interactions with 90% of boy...  1517612614614     False   \n",
       "3  She has to be announcing this tour tomorrow. h...  1516691493906     False   \n",
       "4  'you look so fine\\nI'm like the desert tonight...  1515283010785     False   \n",
       "\n",
       "                                                user user_processed  \n",
       "0  {'id': 426964605, 'id_str': '426964605', 'name...            NaN  \n",
       "1  {'id': 62141145, 'id_str': '62141145', 'name':...            NaN  \n",
       "2  {'id': 1024548752, 'id_str': '1024548752', 'na...            NaN  \n",
       "3  {'id': 342953499, 'id_str': '342953499', 'name...            NaN  \n",
       "4  {'id': 26154884, 'id_str': '26154884', 'name':...            NaN  \n",
       "\n",
       "[5 rows x 35 columns]"
      ]
     },
     "execution_count": 163,
     "metadata": {},
     "output_type": "execute_result"
    }
   ],
   "source": [
    "df.head(n=5)"
   ]
  },
  {
   "cell_type": "code",
   "execution_count": 164,
   "metadata": {},
   "outputs": [
    {
     "data": {
      "text/plain": [
       "_id                           0\n",
       "contributors                 10\n",
       "coordinates                   8\n",
       "created_at                    0\n",
       "display_text_range            4\n",
       "entities                      0\n",
       "extended_tweet                9\n",
       "favorite_count                0\n",
       "favorited                     0\n",
       "filter_level                  0\n",
       "geo                           8\n",
       "id                            0\n",
       "id_str                        0\n",
       "in_reply_to_screen_name       6\n",
       "in_reply_to_status_id         6\n",
       "in_reply_to_status_id_str     6\n",
       "in_reply_to_user_id           6\n",
       "in_reply_to_user_id_str       6\n",
       "is_quote_status               0\n",
       "lang                          0\n",
       "place                         0\n",
       "possibly_sensitive            6\n",
       "quote_count                   0\n",
       "quoted_status                 8\n",
       "quoted_status_id              8\n",
       "quoted_status_id_str          8\n",
       "reply_count                   0\n",
       "retweet_count                 0\n",
       "retweeted                     0\n",
       "source                        0\n",
       "text                          0\n",
       "timestamp_ms                  0\n",
       "truncated                     0\n",
       "user                          0\n",
       "user_processed                9\n",
       "dtype: int64"
      ]
     },
     "execution_count": 164,
     "metadata": {},
     "output_type": "execute_result"
    }
   ],
   "source": [
    "# check out contributor\n",
    "df.isnull().sum(axis=0)"
   ]
  },
  {
   "cell_type": "code",
   "execution_count": 165,
   "metadata": {},
   "outputs": [
    {
     "data": {
      "text/plain": [
       "'<a href=\"http://twitter.com/#!/download/ipad\" rel=\"nofollow\">Twitter for iPad</a>'"
      ]
     },
     "execution_count": 165,
     "metadata": {},
     "output_type": "execute_result"
    }
   ],
   "source": [
    "# I want to parse the source column, so I can gather details about the devices used to tweet\n",
    "df.loc[1, 'source']"
   ]
  },
  {
   "cell_type": "code",
   "execution_count": 166,
   "metadata": {},
   "outputs": [
    {
     "data": {
      "text/plain": [
       "0     Twitter for iPhone\n",
       "1       Twitter for iPad\n",
       "2     Twitter for iPhone\n",
       "3     Twitter for iPhone\n",
       "4              Instagram\n",
       "5     Twitter for iPhone\n",
       "6     Twitter for iPhone\n",
       "7    Twitter for Android\n",
       "8              Instagram\n",
       "9     Twitter for iPhone\n",
       "Name: source, dtype: object"
      ]
     },
     "execution_count": 166,
     "metadata": {},
     "output_type": "execute_result"
    }
   ],
   "source": [
    "df['source'] = df['source'].str.replace('<.*?>', '')\n",
    "df['source']"
   ]
  },
  {
   "cell_type": "markdown",
   "metadata": {},
   "source": [
    "### Place contains location info we need. Coordinates and geo are incomplete/redundant cols that provide a subset of info place provides. So we can remove coordinates and geo"
   ]
  },
  {
   "cell_type": "code",
   "execution_count": 167,
   "metadata": {},
   "outputs": [],
   "source": [
    "df.loc[1, 'coordinates']"
   ]
  },
  {
   "cell_type": "code",
   "execution_count": 168,
   "metadata": {},
   "outputs": [],
   "source": [
    "df.loc[1, 'geo']"
   ]
  },
  {
   "cell_type": "code",
   "execution_count": 169,
   "metadata": {},
   "outputs": [
    {
     "data": {
      "text/plain": [
       "'United States'"
      ]
     },
     "execution_count": 169,
     "metadata": {},
     "output_type": "execute_result"
    }
   ],
   "source": [
    "df.loc[1, 'place'].get('country')"
   ]
  },
  {
   "cell_type": "code",
   "execution_count": 170,
   "metadata": {},
   "outputs": [],
   "source": [
    "x = df['place'].get('country')\n",
    "x"
   ]
  },
  {
   "cell_type": "code",
   "execution_count": null,
   "metadata": {},
   "outputs": [],
   "source": []
  }
 ],
 "metadata": {
  "kernelspec": {
   "display_name": "Python 3",
   "language": "python",
   "name": "python3"
  },
  "language_info": {
   "codemirror_mode": {
    "name": "ipython",
    "version": 3
   },
   "file_extension": ".py",
   "mimetype": "text/x-python",
   "name": "python",
   "nbconvert_exporter": "python",
   "pygments_lexer": "ipython3",
   "version": "3.6.3"
  }
 },
 "nbformat": 4,
 "nbformat_minor": 2
}

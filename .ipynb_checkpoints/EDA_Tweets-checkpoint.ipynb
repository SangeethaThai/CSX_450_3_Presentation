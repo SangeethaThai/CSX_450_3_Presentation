{
 "cells": [
  {
   "cell_type": "code",
   "execution_count": 1,
   "metadata": {},
   "outputs": [
    {
     "name": "stdout",
     "output_type": "stream",
     "text": [
      "Requirement already satisfied: pymongo in /opt/conda/lib/python3.6/site-packages\r\n"
     ]
    }
   ],
   "source": [
    "# install required modules\n",
    "!pip install pymongo\n",
    "#!pip install pandas"
   ]
  },
  {
   "cell_type": "code",
   "execution_count": 2,
   "metadata": {},
   "outputs": [],
   "source": [
    "# access modules\n",
    "from pandas import pandas as pd\n",
    "#from pandas.io.json import json_normalize\n",
    "from pymongo import MongoClient\n"
   ]
  },
  {
   "cell_type": "code",
   "execution_count": 3,
   "metadata": {},
   "outputs": [],
   "source": [
    "%matplotlib inline"
   ]
  },
  {
   "cell_type": "code",
   "execution_count": 4,
   "metadata": {},
   "outputs": [],
   "source": [
    "mongo_client = MongoClient('this-mongo.cc', 27016)\n",
    "database_reference = mongo_client.twitter\n",
    "collection_reference = database_reference.tweets"
   ]
  },
  {
   "cell_type": "code",
   "execution_count": 5,
   "metadata": {},
   "outputs": [
    {
     "data": {
      "text/plain": [
       "2157100"
      ]
     },
     "execution_count": 5,
     "metadata": {},
     "output_type": "execute_result"
    }
   ],
   "source": [
    "collection_reference.count()"
   ]
  },
  {
   "cell_type": "code",
   "execution_count": 6,
   "metadata": {},
   "outputs": [],
   "source": [
    "# Get the first document\n",
    "cursor = collection_reference.find()"
   ]
  },
  {
   "cell_type": "code",
   "execution_count": 7,
   "metadata": {},
   "outputs": [
    {
     "data": {
      "text/plain": [
       "_id                           object\n",
       "contributors                  object\n",
       "coordinates                   object\n",
       "created_at                    object\n",
       "display_text_range            object\n",
       "entities                      object\n",
       "extended_entities             object\n",
       "favorite_count                 int64\n",
       "favorited                       bool\n",
       "filter_level                  object\n",
       "geo                           object\n",
       "id                             int64\n",
       "id_str                        object\n",
       "in_reply_to_screen_name       object\n",
       "in_reply_to_status_id        float64\n",
       "in_reply_to_status_id_str     object\n",
       "in_reply_to_user_id          float64\n",
       "in_reply_to_user_id_str       object\n",
       "is_quote_status                 bool\n",
       "lang                          object\n",
       "place                         object\n",
       "possibly_sensitive            object\n",
       "quote_count                    int64\n",
       "reply_count                    int64\n",
       "retweet_count                  int64\n",
       "retweeted                       bool\n",
       "source                        object\n",
       "text                          object\n",
       "timestamp_ms                  object\n",
       "truncated                       bool\n",
       "user                          object\n",
       "user_processed                object\n",
       "dtype: object"
      ]
     },
     "execution_count": 7,
     "metadata": {},
     "output_type": "execute_result"
    }
   ],
   "source": [
    "sample_set = collection_reference.aggregate([{'$sample': {'size': 100}}])\n",
    "df = pd.DataFrame(list(sample_set))\n",
    "df.dtypes"
   ]
  },
  {
   "cell_type": "code",
   "execution_count": 8,
   "metadata": {},
   "outputs": [
    {
     "data": {
      "text/html": [
       "<div>\n",
       "<table border=\"1\" class=\"dataframe\">\n",
       "  <thead>\n",
       "    <tr style=\"text-align: right;\">\n",
       "      <th></th>\n",
       "      <th>_id</th>\n",
       "      <th>contributors</th>\n",
       "      <th>coordinates</th>\n",
       "      <th>created_at</th>\n",
       "      <th>display_text_range</th>\n",
       "      <th>entities</th>\n",
       "      <th>extended_entities</th>\n",
       "      <th>favorite_count</th>\n",
       "      <th>favorited</th>\n",
       "      <th>filter_level</th>\n",
       "      <th>...</th>\n",
       "      <th>quote_count</th>\n",
       "      <th>reply_count</th>\n",
       "      <th>retweet_count</th>\n",
       "      <th>retweeted</th>\n",
       "      <th>source</th>\n",
       "      <th>text</th>\n",
       "      <th>timestamp_ms</th>\n",
       "      <th>truncated</th>\n",
       "      <th>user</th>\n",
       "      <th>user_processed</th>\n",
       "    </tr>\n",
       "  </thead>\n",
       "  <tbody>\n",
       "    <tr>\n",
       "      <th>0</th>\n",
       "      <td>5a6e62cb36dd5f000169654c</td>\n",
       "      <td>None</td>\n",
       "      <td>None</td>\n",
       "      <td>Sun Jan 28 23:54:51 +0000 2018</td>\n",
       "      <td>[14, 59]</td>\n",
       "      <td>{'hashtags': [], 'urls': [], 'user_mentions': ...</td>\n",
       "      <td>NaN</td>\n",
       "      <td>0</td>\n",
       "      <td>False</td>\n",
       "      <td>low</td>\n",
       "      <td>...</td>\n",
       "      <td>0</td>\n",
       "      <td>0</td>\n",
       "      <td>0</td>\n",
       "      <td>False</td>\n",
       "      <td>&lt;a href=\"http://twitter.com/download/iphone\" r...</td>\n",
       "      <td>@MMAdamMartin Imagine him at 145, his natural ...</td>\n",
       "      <td>1517183691545</td>\n",
       "      <td>False</td>\n",
       "      <td>{'id': 1226542472, 'id_str': '1226542472', 'na...</td>\n",
       "      <td>True</td>\n",
       "    </tr>\n",
       "    <tr>\n",
       "      <th>1</th>\n",
       "      <td>5a501bbe47b2a100b505ce25</td>\n",
       "      <td>None</td>\n",
       "      <td>{'type': 'Point', 'coordinates': [-118.243, 34...</td>\n",
       "      <td>Sat Jan 06 00:43:42 +0000 2018</td>\n",
       "      <td>NaN</td>\n",
       "      <td>{'hashtags': [], 'urls': [{'url': 'https://t.c...</td>\n",
       "      <td>NaN</td>\n",
       "      <td>0</td>\n",
       "      <td>False</td>\n",
       "      <td>low</td>\n",
       "      <td>...</td>\n",
       "      <td>0</td>\n",
       "      <td>0</td>\n",
       "      <td>0</td>\n",
       "      <td>False</td>\n",
       "      <td>&lt;a href=\"http://instagram.com\" rel=\"nofollow\"&gt;...</td>\n",
       "      <td>Lock yourself in a room doing 5 beats a day fo...</td>\n",
       "      <td>1515199422695</td>\n",
       "      <td>False</td>\n",
       "      <td>{'id': 1148526530, 'id_str': '1148526530', 'na...</td>\n",
       "      <td>True</td>\n",
       "    </tr>\n",
       "    <tr>\n",
       "      <th>2</th>\n",
       "      <td>5a779e7015ba4c000155a2ed</td>\n",
       "      <td>None</td>\n",
       "      <td>None</td>\n",
       "      <td>Sun Feb 04 23:59:44 +0000 2018</td>\n",
       "      <td>[13, 53]</td>\n",
       "      <td>{'hashtags': [], 'urls': [], 'user_mentions': ...</td>\n",
       "      <td>NaN</td>\n",
       "      <td>0</td>\n",
       "      <td>False</td>\n",
       "      <td>low</td>\n",
       "      <td>...</td>\n",
       "      <td>0</td>\n",
       "      <td>0</td>\n",
       "      <td>0</td>\n",
       "      <td>False</td>\n",
       "      <td>&lt;a href=\"http://twitter.com/download/iphone\" r...</td>\n",
       "      <td>@MattWaldman Eagles... doing free agency effec...</td>\n",
       "      <td>1517788784259</td>\n",
       "      <td>False</td>\n",
       "      <td>{'id': 21638171, 'id_str': '21638171', 'name':...</td>\n",
       "      <td>True</td>\n",
       "    </tr>\n",
       "    <tr>\n",
       "      <th>3</th>\n",
       "      <td>5a7b601f15ba4c00015801ca</td>\n",
       "      <td>None</td>\n",
       "      <td>{'type': 'Point', 'coordinates': [-121.0057931...</td>\n",
       "      <td>Wed Feb 07 20:22:55 +0000 2018</td>\n",
       "      <td>NaN</td>\n",
       "      <td>{'hashtags': [{'text': 'job', 'indices': [5, 9...</td>\n",
       "      <td>NaN</td>\n",
       "      <td>0</td>\n",
       "      <td>False</td>\n",
       "      <td>low</td>\n",
       "      <td>...</td>\n",
       "      <td>0</td>\n",
       "      <td>0</td>\n",
       "      <td>0</td>\n",
       "      <td>False</td>\n",
       "      <td>&lt;a href=\"http://www.tweetmyjobs.com\" rel=\"nofo...</td>\n",
       "      <td>This #job might be a great fit for you: Progra...</td>\n",
       "      <td>1518034975269</td>\n",
       "      <td>False</td>\n",
       "      <td>{'id': 98900878, 'id_str': '98900878', 'name':...</td>\n",
       "      <td>True</td>\n",
       "    </tr>\n",
       "    <tr>\n",
       "      <th>4</th>\n",
       "      <td>5a71273636dd5f00016b22df</td>\n",
       "      <td>None</td>\n",
       "      <td>None</td>\n",
       "      <td>Wed Jan 31 02:17:25 +0000 2018</td>\n",
       "      <td>[0, 0]</td>\n",
       "      <td>{'hashtags': [], 'urls': [], 'user_mentions': ...</td>\n",
       "      <td>{'media': [{'id': 958524577872715776, 'id_str'...</td>\n",
       "      <td>0</td>\n",
       "      <td>False</td>\n",
       "      <td>low</td>\n",
       "      <td>...</td>\n",
       "      <td>0</td>\n",
       "      <td>0</td>\n",
       "      <td>0</td>\n",
       "      <td>False</td>\n",
       "      <td>&lt;a href=\"http://twitter.com/download/iphone\" r...</td>\n",
       "      <td>https://t.co/5KtIMJtqEJ</td>\n",
       "      <td>1517365045369</td>\n",
       "      <td>False</td>\n",
       "      <td>{'id': 548159597, 'id_str': '548159597', 'name...</td>\n",
       "      <td>True</td>\n",
       "    </tr>\n",
       "  </tbody>\n",
       "</table>\n",
       "<p>5 rows × 32 columns</p>\n",
       "</div>"
      ],
      "text/plain": [
       "                        _id contributors  \\\n",
       "0  5a6e62cb36dd5f000169654c         None   \n",
       "1  5a501bbe47b2a100b505ce25         None   \n",
       "2  5a779e7015ba4c000155a2ed         None   \n",
       "3  5a7b601f15ba4c00015801ca         None   \n",
       "4  5a71273636dd5f00016b22df         None   \n",
       "\n",
       "                                         coordinates  \\\n",
       "0                                               None   \n",
       "1  {'type': 'Point', 'coordinates': [-118.243, 34...   \n",
       "2                                               None   \n",
       "3  {'type': 'Point', 'coordinates': [-121.0057931...   \n",
       "4                                               None   \n",
       "\n",
       "                       created_at display_text_range  \\\n",
       "0  Sun Jan 28 23:54:51 +0000 2018           [14, 59]   \n",
       "1  Sat Jan 06 00:43:42 +0000 2018                NaN   \n",
       "2  Sun Feb 04 23:59:44 +0000 2018           [13, 53]   \n",
       "3  Wed Feb 07 20:22:55 +0000 2018                NaN   \n",
       "4  Wed Jan 31 02:17:25 +0000 2018             [0, 0]   \n",
       "\n",
       "                                            entities  \\\n",
       "0  {'hashtags': [], 'urls': [], 'user_mentions': ...   \n",
       "1  {'hashtags': [], 'urls': [{'url': 'https://t.c...   \n",
       "2  {'hashtags': [], 'urls': [], 'user_mentions': ...   \n",
       "3  {'hashtags': [{'text': 'job', 'indices': [5, 9...   \n",
       "4  {'hashtags': [], 'urls': [], 'user_mentions': ...   \n",
       "\n",
       "                                   extended_entities  favorite_count  \\\n",
       "0                                                NaN               0   \n",
       "1                                                NaN               0   \n",
       "2                                                NaN               0   \n",
       "3                                                NaN               0   \n",
       "4  {'media': [{'id': 958524577872715776, 'id_str'...               0   \n",
       "\n",
       "  favorited filter_level      ...       quote_count  reply_count  \\\n",
       "0     False          low      ...                 0            0   \n",
       "1     False          low      ...                 0            0   \n",
       "2     False          low      ...                 0            0   \n",
       "3     False          low      ...                 0            0   \n",
       "4     False          low      ...                 0            0   \n",
       "\n",
       "  retweet_count retweeted                                             source  \\\n",
       "0             0     False  <a href=\"http://twitter.com/download/iphone\" r...   \n",
       "1             0     False  <a href=\"http://instagram.com\" rel=\"nofollow\">...   \n",
       "2             0     False  <a href=\"http://twitter.com/download/iphone\" r...   \n",
       "3             0     False  <a href=\"http://www.tweetmyjobs.com\" rel=\"nofo...   \n",
       "4             0     False  <a href=\"http://twitter.com/download/iphone\" r...   \n",
       "\n",
       "                                                text   timestamp_ms truncated  \\\n",
       "0  @MMAdamMartin Imagine him at 145, his natural ...  1517183691545     False   \n",
       "1  Lock yourself in a room doing 5 beats a day fo...  1515199422695     False   \n",
       "2  @MattWaldman Eagles... doing free agency effec...  1517788784259     False   \n",
       "3  This #job might be a great fit for you: Progra...  1518034975269     False   \n",
       "4                            https://t.co/5KtIMJtqEJ  1517365045369     False   \n",
       "\n",
       "                                                user user_processed  \n",
       "0  {'id': 1226542472, 'id_str': '1226542472', 'na...           True  \n",
       "1  {'id': 1148526530, 'id_str': '1148526530', 'na...           True  \n",
       "2  {'id': 21638171, 'id_str': '21638171', 'name':...           True  \n",
       "3  {'id': 98900878, 'id_str': '98900878', 'name':...           True  \n",
       "4  {'id': 548159597, 'id_str': '548159597', 'name...           True  \n",
       "\n",
       "[5 rows x 32 columns]"
      ]
     },
     "execution_count": 8,
     "metadata": {},
     "output_type": "execute_result"
    }
   ],
   "source": [
    "df.head(n=5)"
   ]
  },
  {
   "cell_type": "code",
   "execution_count": 9,
   "metadata": {},
   "outputs": [
    {
     "data": {
      "text/plain": [
       "_id                           0\n",
       "contributors                 10\n",
       "coordinates                   5\n",
       "created_at                    0\n",
       "display_text_range            6\n",
       "entities                      0\n",
       "extended_entities             9\n",
       "favorite_count                0\n",
       "favorited                     0\n",
       "filter_level                  0\n",
       "geo                           5\n",
       "id                            0\n",
       "id_str                        0\n",
       "in_reply_to_screen_name       7\n",
       "in_reply_to_status_id         7\n",
       "in_reply_to_status_id_str     7\n",
       "in_reply_to_user_id           7\n",
       "in_reply_to_user_id_str       7\n",
       "is_quote_status               0\n",
       "lang                          0\n",
       "place                         0\n",
       "possibly_sensitive            4\n",
       "quote_count                   0\n",
       "reply_count                   0\n",
       "retweet_count                 0\n",
       "retweeted                     0\n",
       "source                        0\n",
       "text                          0\n",
       "timestamp_ms                  0\n",
       "truncated                     0\n",
       "user                          0\n",
       "user_processed                5\n",
       "dtype: int64"
      ]
     },
     "execution_count": 9,
     "metadata": {},
     "output_type": "execute_result"
    }
   ],
   "source": [
    "# check out contributor\n",
    "df.isnull().sum(axis=0)"
   ]
  },
  {
   "cell_type": "markdown",
   "metadata": {},
   "source": [
    "#### Remove unused/redundant columns"
   ]
  },
  {
   "cell_type": "code",
   "execution_count": 10,
   "metadata": {},
   "outputs": [],
   "source": [
    "cols = ['contributors', 'coordinates', 'reply_count', 'retweet_count', 'retweeted', 'favorited', 'favorite_count']\n",
    "df.drop(cols, axis=1, inplace=True)\n",
    "#df.pop('contributors')\n",
    "#del df['contributors']"
   ]
  },
  {
   "cell_type": "code",
   "execution_count": 17,
   "metadata": {},
   "outputs": [
    {
     "data": {
      "text/html": [
       "<div>\n",
       "<table border=\"1\" class=\"dataframe\">\n",
       "  <thead>\n",
       "    <tr style=\"text-align: right;\">\n",
       "      <th></th>\n",
       "      <th>_id</th>\n",
       "      <th>created_at</th>\n",
       "      <th>display_text_range</th>\n",
       "      <th>entities</th>\n",
       "      <th>extended_entities</th>\n",
       "      <th>filter_level</th>\n",
       "      <th>geo</th>\n",
       "      <th>id</th>\n",
       "      <th>id_str</th>\n",
       "      <th>in_reply_to_screen_name</th>\n",
       "      <th>...</th>\n",
       "      <th>lang</th>\n",
       "      <th>place</th>\n",
       "      <th>possibly_sensitive</th>\n",
       "      <th>quote_count</th>\n",
       "      <th>source</th>\n",
       "      <th>text</th>\n",
       "      <th>timestamp_ms</th>\n",
       "      <th>truncated</th>\n",
       "      <th>user</th>\n",
       "      <th>user_processed</th>\n",
       "    </tr>\n",
       "  </thead>\n",
       "  <tbody>\n",
       "    <tr>\n",
       "      <th>0</th>\n",
       "      <td>5a6e62cb36dd5f000169654c</td>\n",
       "      <td>Sun Jan 28 23:54:51 +0000 2018</td>\n",
       "      <td>[14, 59]</td>\n",
       "      <td>{'hashtags': [], 'urls': [], 'user_mentions': ...</td>\n",
       "      <td>NaN</td>\n",
       "      <td>low</td>\n",
       "      <td>None</td>\n",
       "      <td>957763936639533056</td>\n",
       "      <td>957763936639533056</td>\n",
       "      <td>MMAdamMartin</td>\n",
       "      <td>...</td>\n",
       "      <td>en</td>\n",
       "      <td>{'id': '3b77caf94bfc81fe', 'url': 'https://api...</td>\n",
       "      <td>NaN</td>\n",
       "      <td>0</td>\n",
       "      <td>Twitter for iPhone</td>\n",
       "      <td>@MMAdamMartin Imagine him at 145, his natural ...</td>\n",
       "      <td>1517183691545</td>\n",
       "      <td>False</td>\n",
       "      <td>{'id': 1226542472, 'id_str': '1226542472', 'na...</td>\n",
       "      <td>True</td>\n",
       "    </tr>\n",
       "    <tr>\n",
       "      <th>1</th>\n",
       "      <td>5a501bbe47b2a100b505ce25</td>\n",
       "      <td>Sat Jan 06 00:43:42 +0000 2018</td>\n",
       "      <td>NaN</td>\n",
       "      <td>{'hashtags': [], 'urls': [{'url': 'https://t.c...</td>\n",
       "      <td>NaN</td>\n",
       "      <td>low</td>\n",
       "      <td>{'type': 'Point', 'coordinates': [34.0522, -11...</td>\n",
       "      <td>949441309865136128</td>\n",
       "      <td>949441309865136128</td>\n",
       "      <td>None</td>\n",
       "      <td>...</td>\n",
       "      <td>en</td>\n",
       "      <td>{'id': '3b77caf94bfc81fe', 'url': 'https://api...</td>\n",
       "      <td>False</td>\n",
       "      <td>0</td>\n",
       "      <td>Instagram</td>\n",
       "      <td>Lock yourself in a room doing 5 beats a day fo...</td>\n",
       "      <td>1515199422695</td>\n",
       "      <td>False</td>\n",
       "      <td>{'id': 1148526530, 'id_str': '1148526530', 'na...</td>\n",
       "      <td>True</td>\n",
       "    </tr>\n",
       "    <tr>\n",
       "      <th>2</th>\n",
       "      <td>5a779e7015ba4c000155a2ed</td>\n",
       "      <td>Sun Feb 04 23:59:44 +0000 2018</td>\n",
       "      <td>[13, 53]</td>\n",
       "      <td>{'hashtags': [], 'urls': [], 'user_mentions': ...</td>\n",
       "      <td>NaN</td>\n",
       "      <td>low</td>\n",
       "      <td>None</td>\n",
       "      <td>960301879430340609</td>\n",
       "      <td>960301879430340609</td>\n",
       "      <td>MattWaldman</td>\n",
       "      <td>...</td>\n",
       "      <td>en</td>\n",
       "      <td>{'id': '3b77caf94bfc81fe', 'url': 'https://api...</td>\n",
       "      <td>NaN</td>\n",
       "      <td>0</td>\n",
       "      <td>Twitter for iPhone</td>\n",
       "      <td>@MattWaldman Eagles... doing free agency effec...</td>\n",
       "      <td>1517788784259</td>\n",
       "      <td>False</td>\n",
       "      <td>{'id': 21638171, 'id_str': '21638171', 'name':...</td>\n",
       "      <td>True</td>\n",
       "    </tr>\n",
       "    <tr>\n",
       "      <th>3</th>\n",
       "      <td>5a7b601f15ba4c00015801ca</td>\n",
       "      <td>Wed Feb 07 20:22:55 +0000 2018</td>\n",
       "      <td>NaN</td>\n",
       "      <td>{'hashtags': [{'text': 'job', 'indices': [5, 9...</td>\n",
       "      <td>NaN</td>\n",
       "      <td>low</td>\n",
       "      <td>{'type': 'Point', 'coordinates': [40.3059999, ...</td>\n",
       "      <td>961334479368302592</td>\n",
       "      <td>961334479368302592</td>\n",
       "      <td>None</td>\n",
       "      <td>...</td>\n",
       "      <td>en</td>\n",
       "      <td>{'id': 'fbd6d2f5a4e4a15e', 'url': 'https://api...</td>\n",
       "      <td>False</td>\n",
       "      <td>0</td>\n",
       "      <td>TweetMyJOBS</td>\n",
       "      <td>This #job might be a great fit for you: Progra...</td>\n",
       "      <td>1518034975269</td>\n",
       "      <td>False</td>\n",
       "      <td>{'id': 98900878, 'id_str': '98900878', 'name':...</td>\n",
       "      <td>True</td>\n",
       "    </tr>\n",
       "    <tr>\n",
       "      <th>4</th>\n",
       "      <td>5a71273636dd5f00016b22df</td>\n",
       "      <td>Wed Jan 31 02:17:25 +0000 2018</td>\n",
       "      <td>[0, 0]</td>\n",
       "      <td>{'hashtags': [], 'urls': [], 'user_mentions': ...</td>\n",
       "      <td>{'media': [{'id': 958524577872715776, 'id_str'...</td>\n",
       "      <td>low</td>\n",
       "      <td>None</td>\n",
       "      <td>958524589709058049</td>\n",
       "      <td>958524589709058049</td>\n",
       "      <td>None</td>\n",
       "      <td>...</td>\n",
       "      <td>und</td>\n",
       "      <td>{'id': '3b77caf94bfc81fe', 'url': 'https://api...</td>\n",
       "      <td>False</td>\n",
       "      <td>0</td>\n",
       "      <td>Twitter for iPhone</td>\n",
       "      <td>https://t.co/5KtIMJtqEJ</td>\n",
       "      <td>1517365045369</td>\n",
       "      <td>False</td>\n",
       "      <td>{'id': 548159597, 'id_str': '548159597', 'name...</td>\n",
       "      <td>True</td>\n",
       "    </tr>\n",
       "  </tbody>\n",
       "</table>\n",
       "<p>5 rows × 25 columns</p>\n",
       "</div>"
      ],
      "text/plain": [
       "                        _id                      created_at  \\\n",
       "0  5a6e62cb36dd5f000169654c  Sun Jan 28 23:54:51 +0000 2018   \n",
       "1  5a501bbe47b2a100b505ce25  Sat Jan 06 00:43:42 +0000 2018   \n",
       "2  5a779e7015ba4c000155a2ed  Sun Feb 04 23:59:44 +0000 2018   \n",
       "3  5a7b601f15ba4c00015801ca  Wed Feb 07 20:22:55 +0000 2018   \n",
       "4  5a71273636dd5f00016b22df  Wed Jan 31 02:17:25 +0000 2018   \n",
       "\n",
       "  display_text_range                                           entities  \\\n",
       "0           [14, 59]  {'hashtags': [], 'urls': [], 'user_mentions': ...   \n",
       "1                NaN  {'hashtags': [], 'urls': [{'url': 'https://t.c...   \n",
       "2           [13, 53]  {'hashtags': [], 'urls': [], 'user_mentions': ...   \n",
       "3                NaN  {'hashtags': [{'text': 'job', 'indices': [5, 9...   \n",
       "4             [0, 0]  {'hashtags': [], 'urls': [], 'user_mentions': ...   \n",
       "\n",
       "                                   extended_entities filter_level  \\\n",
       "0                                                NaN          low   \n",
       "1                                                NaN          low   \n",
       "2                                                NaN          low   \n",
       "3                                                NaN          low   \n",
       "4  {'media': [{'id': 958524577872715776, 'id_str'...          low   \n",
       "\n",
       "                                                 geo                  id  \\\n",
       "0                                               None  957763936639533056   \n",
       "1  {'type': 'Point', 'coordinates': [34.0522, -11...  949441309865136128   \n",
       "2                                               None  960301879430340609   \n",
       "3  {'type': 'Point', 'coordinates': [40.3059999, ...  961334479368302592   \n",
       "4                                               None  958524589709058049   \n",
       "\n",
       "               id_str in_reply_to_screen_name      ...        lang  \\\n",
       "0  957763936639533056            MMAdamMartin      ...          en   \n",
       "1  949441309865136128                    None      ...          en   \n",
       "2  960301879430340609             MattWaldman      ...          en   \n",
       "3  961334479368302592                    None      ...          en   \n",
       "4  958524589709058049                    None      ...         und   \n",
       "\n",
       "                                               place  possibly_sensitive  \\\n",
       "0  {'id': '3b77caf94bfc81fe', 'url': 'https://api...                 NaN   \n",
       "1  {'id': '3b77caf94bfc81fe', 'url': 'https://api...               False   \n",
       "2  {'id': '3b77caf94bfc81fe', 'url': 'https://api...                 NaN   \n",
       "3  {'id': 'fbd6d2f5a4e4a15e', 'url': 'https://api...               False   \n",
       "4  {'id': '3b77caf94bfc81fe', 'url': 'https://api...               False   \n",
       "\n",
       "  quote_count              source  \\\n",
       "0           0  Twitter for iPhone   \n",
       "1           0           Instagram   \n",
       "2           0  Twitter for iPhone   \n",
       "3           0         TweetMyJOBS   \n",
       "4           0  Twitter for iPhone   \n",
       "\n",
       "                                                text   timestamp_ms truncated  \\\n",
       "0  @MMAdamMartin Imagine him at 145, his natural ...  1517183691545     False   \n",
       "1  Lock yourself in a room doing 5 beats a day fo...  1515199422695     False   \n",
       "2  @MattWaldman Eagles... doing free agency effec...  1517788784259     False   \n",
       "3  This #job might be a great fit for you: Progra...  1518034975269     False   \n",
       "4                            https://t.co/5KtIMJtqEJ  1517365045369     False   \n",
       "\n",
       "                                                user user_processed  \n",
       "0  {'id': 1226542472, 'id_str': '1226542472', 'na...           True  \n",
       "1  {'id': 1148526530, 'id_str': '1148526530', 'na...           True  \n",
       "2  {'id': 21638171, 'id_str': '21638171', 'name':...           True  \n",
       "3  {'id': 98900878, 'id_str': '98900878', 'name':...           True  \n",
       "4  {'id': 548159597, 'id_str': '548159597', 'name...           True  \n",
       "\n",
       "[5 rows x 25 columns]"
      ]
     },
     "execution_count": 17,
     "metadata": {},
     "output_type": "execute_result"
    }
   ],
   "source": [
    "df.head(n=5)"
   ]
  },
  {
   "cell_type": "markdown",
   "metadata": {},
   "source": [
    "#### Parse Source of Tweet"
   ]
  },
  {
   "cell_type": "code",
   "execution_count": 11,
   "metadata": {},
   "outputs": [
    {
     "data": {
      "text/plain": [
       "'<a href=\"http://instagram.com\" rel=\"nofollow\">Instagram</a>'"
      ]
     },
     "execution_count": 11,
     "metadata": {},
     "output_type": "execute_result"
    }
   ],
   "source": [
    "# I want to parse the source column, so I can gather details about the devices used to tweet\n",
    "df.loc[1, 'source']"
   ]
  },
  {
   "cell_type": "code",
   "execution_count": 12,
   "metadata": {},
   "outputs": [
    {
     "data": {
      "text/plain": [
       "0    Twitter for iPhone\n",
       "1             Instagram\n",
       "2    Twitter for iPhone\n",
       "3           TweetMyJOBS\n",
       "4    Twitter for iPhone\n",
       "5             Instagram\n",
       "6             Instagram\n",
       "7      Twitter for iPad\n",
       "8             Instagram\n",
       "9    Twitter Web Client\n",
       "Name: source, dtype: object"
      ]
     },
     "execution_count": 12,
     "metadata": {},
     "output_type": "execute_result"
    }
   ],
   "source": [
    "df['source'] = df['source'].str.replace('<.*?>', '')\n",
    "df['source']"
   ]
  },
  {
   "cell_type": "markdown",
   "metadata": {},
   "source": [
    "#### Parse Day of Tweet"
   ]
  },
  {
   "cell_type": "code",
   "execution_count": 20,
   "metadata": {},
   "outputs": [
    {
     "data": {
      "text/plain": [
       "0    Sun\n",
       "1    Sat\n",
       "2    Sun\n",
       "3    Wed\n",
       "4    Wed\n",
       "5    Sun\n",
       "6    Sat\n",
       "7    Tue\n",
       "8    Mon\n",
       "9    Tue\n",
       "Name: day, dtype: object"
      ]
     },
     "execution_count": 20,
     "metadata": {},
     "output_type": "execute_result"
    }
   ],
   "source": [
    "df['day_of_week'] = df['created_at'].str[0:3]\n",
    "df['day_of_week']"
   ]
  },
  {
   "cell_type": "markdown",
   "metadata": {},
   "source": [
    "#### Parse User Info"
   ]
  },
  {
   "cell_type": "code",
   "execution_count": null,
   "metadata": {},
   "outputs": [],
   "source": [
    "# name, screen_name, friends_count"
   ]
  },
  {
   "cell_type": "markdown",
   "metadata": {},
   "source": [
    "#### Place contains location info we need. Coordinates and geo are incomplete/redundant cols that provide a subset of info place provides. So we can remove coordinates and geo"
   ]
  },
  {
   "cell_type": "code",
   "execution_count": 13,
   "metadata": {},
   "outputs": [],
   "source": [
    "#df.loc[1, 'coordinates']"
   ]
  },
  {
   "cell_type": "code",
   "execution_count": 14,
   "metadata": {},
   "outputs": [
    {
     "data": {
      "text/plain": [
       "{'coordinates': [34.0522, -118.243], 'type': 'Point'}"
      ]
     },
     "execution_count": 14,
     "metadata": {},
     "output_type": "execute_result"
    }
   ],
   "source": [
    "df.loc[1, 'geo']"
   ]
  },
  {
   "cell_type": "code",
   "execution_count": 15,
   "metadata": {},
   "outputs": [
    {
     "data": {
      "text/plain": [
       "'United States'"
      ]
     },
     "execution_count": 15,
     "metadata": {},
     "output_type": "execute_result"
    }
   ],
   "source": [
    "df.loc[1, 'place'].get('country')"
   ]
  },
  {
   "cell_type": "code",
   "execution_count": 44,
   "metadata": {},
   "outputs": [
    {
     "data": {
      "text/plain": [
       "'United States'"
      ]
     },
     "execution_count": 44,
     "metadata": {},
     "output_type": "execute_result"
    }
   ],
   "source": [
    "x = df['place'].values[1].get('country')\n",
    "x"
   ]
  },
  {
   "cell_type": "code",
   "execution_count": 18,
   "metadata": {},
   "outputs": [
    {
     "data": {
      "text/plain": [
       "{'attributes': {},\n",
       " 'bounding_box': {'coordinates': [[[-118.668404, 33.704538],\n",
       "    [-118.668404, 34.337041],\n",
       "    [-118.155409, 34.337041],\n",
       "    [-118.155409, 33.704538]]],\n",
       "  'type': 'Polygon'},\n",
       " 'country': 'United States',\n",
       " 'country_code': 'US',\n",
       " 'full_name': 'Los Angeles, CA',\n",
       " 'id': '3b77caf94bfc81fe',\n",
       " 'name': 'Los Angeles',\n",
       " 'place_type': 'city',\n",
       " 'url': 'https://api.twitter.com/1.1/geo/id/3b77caf94bfc81fe.json'}"
      ]
     },
     "execution_count": 18,
     "metadata": {},
     "output_type": "execute_result"
    }
   ],
   "source": [
    "df.loc[1, 'place']"
   ]
  },
  {
   "cell_type": "code",
   "execution_count": 23,
   "metadata": {},
   "outputs": [
    {
     "data": {
      "text/plain": [
       "{'hashtags': [{'indices': [39, 47], 'text': 'dawgfan'},\n",
       "  {'indices': [48, 62], 'text': 'familymatters'},\n",
       "  {'indices': [63, 77], 'text': 'dariusmccrary'},\n",
       "  {'indices': [78, 91], 'text': 'eddiewinslow'}],\n",
       " 'symbols': [],\n",
       " 'urls': [{'display_url': 'instagram.com/p/BdtPyzngjqD/',\n",
       "   'expanded_url': 'https://www.instagram.com/p/BdtPyzngjqD/',\n",
       "   'indices': [93, 116],\n",
       "   'url': 'https://t.co/adlM4ayDhS'}],\n",
       " 'user_mentions': []}"
      ]
     },
     "execution_count": 23,
     "metadata": {},
     "output_type": "execute_result"
    }
   ],
   "source": [
    "df.loc[8, 'entities']"
   ]
  },
  {
   "cell_type": "code",
   "execution_count": 39,
   "metadata": {},
   "outputs": [
    {
     "ename": "IndexError",
     "evalue": "list index out of range",
     "output_type": "error",
     "traceback": [
      "\u001b[0;31m---------------------------------------------------------------------------\u001b[0m",
      "\u001b[0;31mIndexError\u001b[0m                                Traceback (most recent call last)",
      "\u001b[0;32m<ipython-input-39-1b7ac28ed38a>\u001b[0m in \u001b[0;36m<module>\u001b[0;34m()\u001b[0m\n\u001b[1;32m      1\u001b[0m \u001b[0;32mfrom\u001b[0m \u001b[0mpandas\u001b[0m\u001b[0;34m.\u001b[0m\u001b[0mio\u001b[0m\u001b[0;34m.\u001b[0m\u001b[0mjson\u001b[0m \u001b[0;32mimport\u001b[0m \u001b[0mjson_normalize\u001b[0m\u001b[0;34m\u001b[0m\u001b[0m\n\u001b[0;32m----> 2\u001b[0;31m \u001b[0mjson_normalize\u001b[0m\u001b[0;34m(\u001b[0m\u001b[0mlist\u001b[0m\u001b[0;34m(\u001b[0m\u001b[0msample_set\u001b[0m\u001b[0;34m)\u001b[0m\u001b[0;34m)\u001b[0m\u001b[0;34m\u001b[0m\u001b[0m\n\u001b[0m",
      "\u001b[0;32m/opt/conda/lib/python3.6/site-packages/pandas/io/json.py\u001b[0m in \u001b[0;36mjson_normalize\u001b[0;34m(data, record_path, meta, meta_prefix, record_prefix)\u001b[0m\n\u001b[1;32m    791\u001b[0m \u001b[0;34m\u001b[0m\u001b[0m\n\u001b[1;32m    792\u001b[0m     \u001b[0;32mif\u001b[0m \u001b[0mrecord_path\u001b[0m \u001b[0;32mis\u001b[0m \u001b[0;32mNone\u001b[0m\u001b[0;34m:\u001b[0m\u001b[0;34m\u001b[0m\u001b[0m\n\u001b[0;32m--> 793\u001b[0;31m         \u001b[0;32mif\u001b[0m \u001b[0many\u001b[0m\u001b[0;34m(\u001b[0m\u001b[0;34m[\u001b[0m\u001b[0misinstance\u001b[0m\u001b[0;34m(\u001b[0m\u001b[0mx\u001b[0m\u001b[0;34m,\u001b[0m \u001b[0mdict\u001b[0m\u001b[0;34m)\u001b[0m \u001b[0;32mfor\u001b[0m \u001b[0mx\u001b[0m \u001b[0;32min\u001b[0m \u001b[0mcompat\u001b[0m\u001b[0;34m.\u001b[0m\u001b[0mitervalues\u001b[0m\u001b[0;34m(\u001b[0m\u001b[0mdata\u001b[0m\u001b[0;34m[\u001b[0m\u001b[0;36m0\u001b[0m\u001b[0;34m]\u001b[0m\u001b[0;34m)\u001b[0m\u001b[0;34m]\u001b[0m\u001b[0;34m)\u001b[0m\u001b[0;34m:\u001b[0m\u001b[0;34m\u001b[0m\u001b[0m\n\u001b[0m\u001b[1;32m    794\u001b[0m             \u001b[0;31m# naive normalization, this is idempotent for flat records\u001b[0m\u001b[0;34m\u001b[0m\u001b[0;34m\u001b[0m\u001b[0m\n\u001b[1;32m    795\u001b[0m             \u001b[0;31m# and potentially will inflate the data considerably for\u001b[0m\u001b[0;34m\u001b[0m\u001b[0;34m\u001b[0m\u001b[0m\n",
      "\u001b[0;31mIndexError\u001b[0m: list index out of range"
     ]
    }
   ],
   "source": [
    "#from pandas.io.json import json_normalize \n",
    "#json_normalize(list(sample_set))"
   ]
  },
  {
   "cell_type": "code",
   "execution_count": 51,
   "metadata": {},
   "outputs": [
    {
     "ename": "KeyError",
     "evalue": "'screen_name'",
     "output_type": "error",
     "traceback": [
      "\u001b[0;31m---------------------------------------------------------------------------\u001b[0m",
      "\u001b[0;31mTypeError\u001b[0m                                 Traceback (most recent call last)",
      "\u001b[0;32mpandas/index.pyx\u001b[0m in \u001b[0;36mpandas.index.IndexEngine.get_loc (pandas/index.c:4279)\u001b[0;34m()\u001b[0m\n",
      "\u001b[0;32mpandas/src/hashtable_class_helper.pxi\u001b[0m in \u001b[0;36mpandas.hashtable.Int64HashTable.get_item (pandas/hashtable.c:8543)\u001b[0;34m()\u001b[0m\n",
      "\u001b[0;31mTypeError\u001b[0m: an integer is required",
      "\nDuring handling of the above exception, another exception occurred:\n",
      "\u001b[0;31mKeyError\u001b[0m                                  Traceback (most recent call last)",
      "\u001b[0;32m<ipython-input-51-197e0efcdc0c>\u001b[0m in \u001b[0;36m<module>\u001b[0;34m()\u001b[0m\n\u001b[0;32m----> 1\u001b[0;31m \u001b[0mdf\u001b[0m\u001b[0;34m[\u001b[0m\u001b[0;34m'user'\u001b[0m\u001b[0;34m]\u001b[0m\u001b[0;34m[\u001b[0m\u001b[0;34m'screen_name'\u001b[0m\u001b[0;34m]\u001b[0m\u001b[0;34m\u001b[0m\u001b[0m\n\u001b[0m",
      "\u001b[0;32m/opt/conda/lib/python3.6/site-packages/pandas/core/series.py\u001b[0m in \u001b[0;36m__getitem__\u001b[0;34m(self, key)\u001b[0m\n\u001b[1;32m    601\u001b[0m         \u001b[0mkey\u001b[0m \u001b[0;34m=\u001b[0m \u001b[0mcom\u001b[0m\u001b[0;34m.\u001b[0m\u001b[0m_apply_if_callable\u001b[0m\u001b[0;34m(\u001b[0m\u001b[0mkey\u001b[0m\u001b[0;34m,\u001b[0m \u001b[0mself\u001b[0m\u001b[0;34m)\u001b[0m\u001b[0;34m\u001b[0m\u001b[0m\n\u001b[1;32m    602\u001b[0m         \u001b[0;32mtry\u001b[0m\u001b[0;34m:\u001b[0m\u001b[0;34m\u001b[0m\u001b[0m\n\u001b[0;32m--> 603\u001b[0;31m             \u001b[0mresult\u001b[0m \u001b[0;34m=\u001b[0m \u001b[0mself\u001b[0m\u001b[0;34m.\u001b[0m\u001b[0mindex\u001b[0m\u001b[0;34m.\u001b[0m\u001b[0mget_value\u001b[0m\u001b[0;34m(\u001b[0m\u001b[0mself\u001b[0m\u001b[0;34m,\u001b[0m \u001b[0mkey\u001b[0m\u001b[0;34m)\u001b[0m\u001b[0;34m\u001b[0m\u001b[0m\n\u001b[0m\u001b[1;32m    604\u001b[0m \u001b[0;34m\u001b[0m\u001b[0m\n\u001b[1;32m    605\u001b[0m             \u001b[0;32mif\u001b[0m \u001b[0;32mnot\u001b[0m \u001b[0mis_scalar\u001b[0m\u001b[0;34m(\u001b[0m\u001b[0mresult\u001b[0m\u001b[0;34m)\u001b[0m\u001b[0;34m:\u001b[0m\u001b[0;34m\u001b[0m\u001b[0m\n",
      "\u001b[0;32m/opt/conda/lib/python3.6/site-packages/pandas/indexes/base.py\u001b[0m in \u001b[0;36mget_value\u001b[0;34m(self, series, key)\u001b[0m\n\u001b[1;32m   2167\u001b[0m         \u001b[0;32mtry\u001b[0m\u001b[0;34m:\u001b[0m\u001b[0;34m\u001b[0m\u001b[0m\n\u001b[1;32m   2168\u001b[0m             return self._engine.get_value(s, k,\n\u001b[0;32m-> 2169\u001b[0;31m                                           tz=getattr(series.dtype, 'tz', None))\n\u001b[0m\u001b[1;32m   2170\u001b[0m         \u001b[0;32mexcept\u001b[0m \u001b[0mKeyError\u001b[0m \u001b[0;32mas\u001b[0m \u001b[0me1\u001b[0m\u001b[0;34m:\u001b[0m\u001b[0;34m\u001b[0m\u001b[0m\n\u001b[1;32m   2171\u001b[0m             \u001b[0;32mif\u001b[0m \u001b[0mlen\u001b[0m\u001b[0;34m(\u001b[0m\u001b[0mself\u001b[0m\u001b[0;34m)\u001b[0m \u001b[0;34m>\u001b[0m \u001b[0;36m0\u001b[0m \u001b[0;32mand\u001b[0m \u001b[0mself\u001b[0m\u001b[0;34m.\u001b[0m\u001b[0minferred_type\u001b[0m \u001b[0;32min\u001b[0m \u001b[0;34m[\u001b[0m\u001b[0;34m'integer'\u001b[0m\u001b[0;34m,\u001b[0m \u001b[0;34m'boolean'\u001b[0m\u001b[0;34m]\u001b[0m\u001b[0;34m:\u001b[0m\u001b[0;34m\u001b[0m\u001b[0m\n",
      "\u001b[0;32mpandas/index.pyx\u001b[0m in \u001b[0;36mpandas.index.IndexEngine.get_value (pandas/index.c:3557)\u001b[0;34m()\u001b[0m\n",
      "\u001b[0;32mpandas/index.pyx\u001b[0m in \u001b[0;36mpandas.index.IndexEngine.get_value (pandas/index.c:3240)\u001b[0;34m()\u001b[0m\n",
      "\u001b[0;32mpandas/index.pyx\u001b[0m in \u001b[0;36mpandas.index.IndexEngine.get_loc (pandas/index.c:4363)\u001b[0;34m()\u001b[0m\n",
      "\u001b[0;31mKeyError\u001b[0m: 'screen_name'"
     ]
    }
   ],
   "source": [
    "df['user.screen_name']"
   ]
  },
  {
   "cell_type": "code",
   "execution_count": null,
   "metadata": {},
   "outputs": [],
   "source": []
  }
 ],
 "metadata": {
  "kernelspec": {
   "display_name": "Python 3",
   "language": "python",
   "name": "python3"
  },
  "language_info": {
   "codemirror_mode": {
    "name": "ipython",
    "version": 3
   },
   "file_extension": ".py",
   "mimetype": "text/x-python",
   "name": "python",
   "nbconvert_exporter": "python",
   "pygments_lexer": "ipython3",
   "version": "3.6.3"
  }
 },
 "nbformat": 4,
 "nbformat_minor": 2
}
